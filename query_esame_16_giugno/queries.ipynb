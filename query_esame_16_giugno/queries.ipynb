{
 "cells": [
  {
   "attachments": {},
   "cell_type": "markdown",
   "metadata": {},
   "source": [
    "Given the following schema\n"
   ]
  },
  {
   "attachments": {},
   "cell_type": "markdown",
   "metadata": {},
   "source": [
    "**BOATS**($\\underline{NauticalPlate}$, OwnerSurname(foreign key), CostGasolinePerKM)\n",
    "\n",
    "**TRIPS**($\\underline{id}$, idBoat(foreign key NauticalPlate), idOwner(foreign key ownerSurname), fromCity(foreign key), toCity(foreign key), Day, Month, Year, KM)\n",
    "\n",
    "**CITIES**($\\underline{Name}$, Country)"
   ]
  },
  {
   "cell_type": "code",
   "execution_count": 1,
   "metadata": {},
   "outputs": [
    {
     "name": "stdout",
     "output_type": "stream",
     "text": [
      "Collecting ipython-sql\n",
      "  Downloading ipython_sql-0.5.0-py3-none-any.whl (20 kB)\n",
      "Requirement already satisfied: six in /opt/anaconda3/lib/python3.9/site-packages (from ipython-sql) (1.16.0)\n",
      "Requirement already satisfied: ipython in /opt/anaconda3/lib/python3.9/site-packages (from ipython-sql) (7.31.1)\n",
      "Requirement already satisfied: ipython-genutils in /opt/anaconda3/lib/python3.9/site-packages (from ipython-sql) (0.2.0)\n",
      "Collecting prettytable\n",
      "  Downloading prettytable-3.8.0-py3-none-any.whl (27 kB)\n",
      "Collecting sqlalchemy>=2.0\n",
      "  Downloading SQLAlchemy-2.0.17-cp39-cp39-macosx_10_9_x86_64.whl (2.0 MB)\n",
      "\u001b[2K     \u001b[90m━━━━━━━━━━━━━━━━━━━━━━━━━━━━━━━━━━━━━━━━\u001b[0m \u001b[32m2.0/2.0 MB\u001b[0m \u001b[31m605.5 kB/s\u001b[0m eta \u001b[36m0:00:00\u001b[0m00:01\u001b[0m00:01\u001b[0m\n",
      "\u001b[?25hCollecting sqlparse\n",
      "  Downloading sqlparse-0.4.4-py3-none-any.whl (41 kB)\n",
      "\u001b[2K     \u001b[90m━━━━━━━━━━━━━━━━━━━━━━━━━━━━━━━━━━━━━━━\u001b[0m \u001b[32m41.2/41.2 kB\u001b[0m \u001b[31m620.4 kB/s\u001b[0m eta \u001b[36m0:00:00\u001b[0m0:01\u001b[0m\n",
      "\u001b[?25hRequirement already satisfied: typing-extensions>=4.2.0 in /opt/anaconda3/lib/python3.9/site-packages (from sqlalchemy>=2.0->ipython-sql) (4.4.0)\n",
      "Requirement already satisfied: greenlet!=0.4.17 in /opt/anaconda3/lib/python3.9/site-packages (from sqlalchemy>=2.0->ipython-sql) (2.0.1)\n",
      "Requirement already satisfied: setuptools>=18.5 in /opt/anaconda3/lib/python3.9/site-packages (from ipython->ipython-sql) (65.6.3)\n",
      "Requirement already satisfied: traitlets>=4.2 in /opt/anaconda3/lib/python3.9/site-packages (from ipython->ipython-sql) (5.7.1)\n",
      "Requirement already satisfied: matplotlib-inline in /opt/anaconda3/lib/python3.9/site-packages (from ipython->ipython-sql) (0.1.6)\n",
      "Requirement already satisfied: pickleshare in /opt/anaconda3/lib/python3.9/site-packages (from ipython->ipython-sql) (0.7.5)\n",
      "Requirement already satisfied: jedi>=0.16 in /opt/anaconda3/lib/python3.9/site-packages (from ipython->ipython-sql) (0.18.1)\n",
      "Requirement already satisfied: appnope in /opt/anaconda3/lib/python3.9/site-packages (from ipython->ipython-sql) (0.1.2)\n",
      "Requirement already satisfied: backcall in /opt/anaconda3/lib/python3.9/site-packages (from ipython->ipython-sql) (0.2.0)\n",
      "Requirement already satisfied: pygments in /opt/anaconda3/lib/python3.9/site-packages (from ipython->ipython-sql) (2.11.2)\n",
      "Requirement already satisfied: pexpect>4.3 in /opt/anaconda3/lib/python3.9/site-packages (from ipython->ipython-sql) (4.8.0)\n",
      "Requirement already satisfied: prompt-toolkit!=3.0.0,!=3.0.1,<3.1.0,>=2.0.0 in /opt/anaconda3/lib/python3.9/site-packages (from ipython->ipython-sql) (3.0.36)\n",
      "Requirement already satisfied: decorator in /opt/anaconda3/lib/python3.9/site-packages (from ipython->ipython-sql) (5.1.1)\n",
      "Requirement already satisfied: wcwidth in /opt/anaconda3/lib/python3.9/site-packages (from prettytable->ipython-sql) (0.2.5)\n",
      "Requirement already satisfied: parso<0.9.0,>=0.8.0 in /opt/anaconda3/lib/python3.9/site-packages (from jedi>=0.16->ipython->ipython-sql) (0.8.3)\n",
      "Requirement already satisfied: ptyprocess>=0.5 in /opt/anaconda3/lib/python3.9/site-packages (from pexpect>4.3->ipython->ipython-sql) (0.7.0)\n",
      "Installing collected packages: sqlparse, sqlalchemy, prettytable, ipython-sql\n",
      "  Attempting uninstall: sqlalchemy\n",
      "    Found existing installation: SQLAlchemy 1.4.39\n",
      "    Uninstalling SQLAlchemy-1.4.39:\n",
      "      Successfully uninstalled SQLAlchemy-1.4.39\n",
      "Successfully installed ipython-sql-0.5.0 prettytable-3.8.0 sqlalchemy-2.0.17 sqlparse-0.4.4\n"
     ]
    }
   ],
   "source": [
    "%pip install ipython-sql"
   ]
  },
  {
   "cell_type": "code",
   "execution_count": 2,
   "metadata": {},
   "outputs": [],
   "source": [
    "%load_ext sql"
   ]
  },
  {
   "cell_type": "code",
   "execution_count": 3,
   "metadata": {},
   "outputs": [],
   "source": [
    "%sql sqlite:///boatsDB.sqlite"
   ]
  },
  {
   "attachments": {},
   "cell_type": "markdown",
   "metadata": {},
   "source": [
    "Then create the tables:"
   ]
  },
  {
   "cell_type": "code",
   "execution_count": 18,
   "metadata": {},
   "outputs": [
    {
     "name": "stdout",
     "output_type": "stream",
     "text": [
      " * sqlite:///boatsDB.sqlite\n",
      "Done.\n",
      "Done.\n",
      "Done.\n",
      "Done.\n",
      "Done.\n",
      "Done.\n"
     ]
    },
    {
     "data": {
      "text/plain": [
       "[]"
      ]
     },
     "execution_count": 18,
     "metadata": {},
     "output_type": "execute_result"
    }
   ],
   "source": [
    "%%sql\n",
    "DROP TABLE IF EXISTS BOATS;\n",
    "DROP TABLE IF EXISTS TRIPS;\n",
    "DROP TABLE IF EXISTS CITIES;\n",
    "CREATE TABLE BOATS (\n",
    "    NauticalPlate VARCHAR(255) PRIMARY KEY, \n",
    "    OwnerSurname VARCHAR(255), \n",
    "    CostGasolinePerKM REAL\n",
    ");\n",
    "\n",
    "CREATE TABLE TRIPS (\n",
    "    id INT PRIMARY KEY, \n",
    "    idBoat VARCHAR(255), \n",
    "    idOwner VARCHAR(255), \n",
    "    fromCity VARCHAR(255), \n",
    "    toCity VARCHAR(255), \n",
    "    day INT, \n",
    "    month INT, \n",
    "    year INT, \n",
    "    KM REAL,\n",
    "    FOREIGN KEY (idBoat) REFERENCES BOATS(NauticalPlate)\n",
    ");\n",
    "\n",
    "CREATE TABLE CITIES (\n",
    "    Name VARCHAR(255) PRIMARY KEY, \n",
    "    Country VARCHAR(255)\n",
    ");\n"
   ]
  },
  {
   "cell_type": "code",
   "execution_count": 19,
   "metadata": {},
   "outputs": [
    {
     "name": "stdout",
     "output_type": "stream",
     "text": [
      " * sqlite:///boatsDB.sqlite\n",
      "15 rows affected.\n",
      "15 rows affected.\n",
      "15 rows affected.\n"
     ]
    },
    {
     "data": {
      "text/plain": [
       "[]"
      ]
     },
     "execution_count": 19,
     "metadata": {},
     "output_type": "execute_result"
    }
   ],
   "source": [
    "%%sql\n",
    "INSERT INTO CITIES (Name, Country) VALUES \n",
    "    ('Paris', 'France'),\n",
    "    ('Lyon', 'France'),\n",
    "    ('Marseille', 'France'),\n",
    "    ('Athens', 'Greece'),\n",
    "    ('Thessaloniki', 'Greece'),\n",
    "    ('Patras', 'Greece'),\n",
    "    ('Rome', 'Italy'),\n",
    "    ('Milan', 'Italy'),\n",
    "    ('Naples', 'Italy'),\n",
    "    ('New York', 'USA'),\n",
    "    ('Los Angeles', 'USA'),\n",
    "    ('Chicago', 'USA'),\n",
    "    ('London', 'UK'),\n",
    "    ('Birmingham', 'UK'),\n",
    "    ('Leeds', 'UK');\n",
    "\n",
    "INSERT INTO BOATS (NauticalPlate, OwnerSurname, CostGasolinePerKM) VALUES \n",
    "    ('Boat1', 'Owner1', 2.3),\n",
    "    ('Boat2', 'Owner2', 1.7),\n",
    "    ('Boat3', 'Owner3', 2.9),\n",
    "    ('Boat4', 'Owner4', 1.2),\n",
    "    ('Boat5', 'Owner5', 1.5),\n",
    "    ('Boat6', 'Owner1', 2.0),\n",
    "    ('Boat7', 'Owner2', 2.5),\n",
    "    ('Boat8', 'Owner3', 1.8),\n",
    "    ('Boat9', 'Owner4', 2.1),\n",
    "    ('Boat10', 'Owner5', 1.9),\n",
    "    ('Boat11', 'Owner1', 2.6),\n",
    "    ('Boat12', 'Owner2', 2.2),\n",
    "    ('Boat13', 'Owner3', 1.7),\n",
    "    ('Boat14', 'Owner4', 2.0),\n",
    "    ('Boat15', 'Owner5', 1.8);\n",
    "\n",
    "INSERT INTO TRIPS (id, idBoat, idOwner, fromCity, toCity, Day, Month, Year, KM) VALUES \n",
    "    (1, 'Boat1', 'Owner1', 'Paris', 'Lyon', 1, 1, 2020, 200),\n",
    "    (2, 'Boat2', 'Owner2', 'Marseille', 'Lyon', 5, 2, 2022, 150),\n",
    "    (3, 'Boat3', 'Owner3', 'Athens', 'Thessaloniki', 10, 3, 2020, 300),\n",
    "    (4, 'Boat4', 'Owner4', 'Patras', 'Athens', 15, 4, 2020, 250),\n",
    "    (5, 'Boat5', 'Owner5', 'Rome', 'Milan', 20, 5, 2020, 350),\n",
    "    (6, 'Boat6', 'Owner1', 'Naples', 'Rome', 25, 6, 2020, 400),\n",
    "    (7, 'Boat7', 'Owner2', 'New York', 'Los Angeles', 30, 7, 2020, 450),\n",
    "    (8, 'Boat8', 'Owner3', 'Chicago', 'New York', 4, 8, 2020, 500),\n",
    "    (9, 'Boat2', 'Owner2', 'London', 'Birmingham', 8, 9, 2020, 150),\n",
    "    (10, 'Boat10', 'Owner5', 'Leeds', 'London', 12, 10, 2020, 200),\n",
    "    (11, 'Boat7', 'Owner2', 'Paris', 'Marseille', 16, 11, 2022, 250),\n",
    "    (12, 'Boat7', 'Owner2', 'Lyon', 'Paris', 20, 12, 2020, 300),\n",
    "    (13, 'Boat6', 'Owner1', 'Thessaloniki', 'Patras', 24, 1, 2021, 350),\n",
    "    (14, 'Boat4', 'Owner4', 'Athens', 'Rome', 28, 2, 2021, 400),\n",
    "    (15, 'Boat7', 'Owner2', 'Milan', 'Naples', 1, 3, 2021, 450);\n"
   ]
  },
  {
   "attachments": {},
   "cell_type": "markdown",
   "metadata": {},
   "source": [
    "\n",
    "Write the MySQL queries to retrieve the following information:"
   ]
  },
  {
   "attachments": {},
   "cell_type": "markdown",
   "metadata": {},
   "source": [
    "1. DELETE all boats which contain owners with substring  starting with \"Ti\" and ending with \"ic\"\n",
    "\n",
    "My understanding:\n",
    "DELETE all boats of the owners whose name contains substrings starting with \"Ti\" and ending with \"ic\"."
   ]
  },
  {
   "cell_type": "code",
   "execution_count": null,
   "metadata": {
    "vscode": {
     "languageId": "sql"
    }
   },
   "outputs": [],
   "source": [
    "DELETE FROM BOATS \n",
    "WHERE OwnerSurname LIKE '%Ti%ic%';\n"
   ]
  },
  {
   "attachments": {},
   "cell_type": "markdown",
   "metadata": {},
   "source": [
    "2. Find the plate of the boats that traveled the fewest kilometers."
   ]
  },
  {
   "cell_type": "code",
   "execution_count": null,
   "metadata": {
    "vscode": {
     "languageId": "sql"
    }
   },
   "outputs": [],
   "source": [
    "# MySQL syntax\n",
    "CREATE VIEW tot_km_per_boat AS (\n",
    "  SELECT idBoat, SUM(KM) as TotalKM\n",
    "  FROM TRIPS\n",
    "  GROUP BY idBoat\n",
    ");\n",
    "\n",
    "SELECT idBoat\n",
    "FROM tot_km_per_boat\n",
    "WHERE TotalKM = (SELECT MIN(TotalKM) FROM tot_km_per_boat);"
   ]
  },
  {
   "cell_type": "code",
   "execution_count": 21,
   "metadata": {
    "vscode": {
     "languageId": "sql"
    }
   },
   "outputs": [
    {
     "name": "stdout",
     "output_type": "stream",
     "text": [
      " * sqlite:///boatsDB.sqlite\n",
      "(sqlite3.OperationalError) view tot_km_per_boat already exists\n",
      "[SQL: CREATE VIEW tot_km_per_boat AS \n",
      "SELECT idBoat, SUM(KM) as TotalKM\n",
      "FROM TRIPS\n",
      "GROUP BY idBoat]\n",
      "(Background on this error at: https://sqlalche.me/e/20/e3q8)\n"
     ]
    }
   ],
   "source": [
    "%%sql\n",
    "# runnable SQLite syntax\n",
    "CREATE VIEW tot_km_per_boat AS \n",
    "SELECT idBoat, SUM(KM) as TotalKM\n",
    "FROM TRIPS\n",
    "GROUP BY idBoat\n"
   ]
  },
  {
   "cell_type": "code",
   "execution_count": 22,
   "metadata": {
    "vscode": {
     "languageId": "sql"
    }
   },
   "outputs": [
    {
     "name": "stdout",
     "output_type": "stream",
     "text": [
      " * sqlite:///boatsDB.sqlite\n",
      "Done.\n"
     ]
    },
    {
     "data": {
      "text/html": [
       "<table>\n",
       "    <thead>\n",
       "        <tr>\n",
       "            <th>idBoat</th>\n",
       "        </tr>\n",
       "    </thead>\n",
       "    <tbody>\n",
       "        <tr>\n",
       "            <td>Boat1</td>\n",
       "        </tr>\n",
       "        <tr>\n",
       "            <td>Boat10</td>\n",
       "        </tr>\n",
       "    </tbody>\n",
       "</table>"
      ],
      "text/plain": [
       "[('Boat1',), ('Boat10',)]"
      ]
     },
     "execution_count": 22,
     "metadata": {},
     "output_type": "execute_result"
    }
   ],
   "source": [
    "%%sql\n",
    "SELECT idBoat\n",
    "FROM tot_km_per_boat\n",
    "WHERE TotalKM = (SELECT MIN(TotalKM) FROM tot_km_per_boat)\n"
   ]
  },
  {
   "attachments": {},
   "cell_type": "markdown",
   "metadata": {},
   "source": [
    "3. Find the owners whose journey started and ended in the same city"
   ]
  },
  {
   "attachments": {},
   "cell_type": "markdown",
   "metadata": {},
   "source": [
    "4. Report(in ascending order) the owners (and the cost incurred)  of the boats that spent the most money in gasoline.\n",
    "\n",
    "My understanding:\n",
    "Report the ownerId and the total cost of the boats that spent the most money in gasoline. Order the result in ascending order by ownerSurname(ownerId)"
   ]
  },
  {
   "cell_type": "code",
   "execution_count": null,
   "metadata": {
    "vscode": {
     "languageId": "sql"
    }
   },
   "outputs": [],
   "source": [
    "# MySQL syntax\n",
    "CREATE VIEW tot_km_per_boat AS \n",
    "(\n",
    "  SELECT idBoat, SUM(KM) as TotalKM\n",
    "  FROM TRIPS\n",
    "  GROUP BY idBoat\n",
    ");\n",
    "\n",
    "CREATE VIEW money_spent_per_boat AS \n",
    "(\n",
    "  SELECT idBoat, b.OwnerSurname, t.TotalKM * b.CostGasolinePerKM2 as TotCost\n",
    "  FROM tot_km_per_boat as t\n",
    "  JOIN BOATS b ON b.NauticalPlate = t.idBoat\n",
    ");\n",
    "\n",
    "SELECT OwnerSurname, TotCost\n",
    "FROM money_spent_per_boat \n",
    "WHERE TotCost = (SELECT MAX(TotCost) FROM money_spent_per_boat)\n",
    "ORDER BY OwnerSurname ASC;\n"
   ]
  },
  {
   "attachments": {},
   "cell_type": "markdown",
   "metadata": {},
   "source": [
    "\n",
    "#### Runnable Sqlite syntax"
   ]
  },
  {
   "cell_type": "code",
   "execution_count": 29,
   "metadata": {
    "vscode": {
     "languageId": "sql"
    }
   },
   "outputs": [
    {
     "name": "stdout",
     "output_type": "stream",
     "text": [
      " * sqlite:///boatsDB.sqlite\n",
      "Done.\n",
      "Done.\n"
     ]
    },
    {
     "data": {
      "text/plain": [
       "[]"
      ]
     },
     "execution_count": 29,
     "metadata": {},
     "output_type": "execute_result"
    }
   ],
   "source": [
    "%%sql\n",
    "DROP VIEW IF EXISTS money_spent_per_boat;\n",
    "CREATE VIEW money_spent_per_boat AS\n",
    "SELECT idBoat, b.OwnerSurname, t.TotalKM * b.CostGasolinePerKM as TotCost\n",
    "FROM tot_km_per_boat as t\n",
    "JOIN BOATS b ON b.NauticalPlate = t.idBoat\n"
   ]
  },
  {
   "cell_type": "code",
   "execution_count": 30,
   "metadata": {
    "vscode": {
     "languageId": "sql"
    }
   },
   "outputs": [
    {
     "name": "stdout",
     "output_type": "stream",
     "text": [
      " * sqlite:///boatsDB.sqlite\n",
      "Done.\n"
     ]
    },
    {
     "data": {
      "text/html": [
       "<table>\n",
       "    <thead>\n",
       "        <tr>\n",
       "            <th>OwnerSurname</th>\n",
       "            <th>TotCost</th>\n",
       "        </tr>\n",
       "    </thead>\n",
       "    <tbody>\n",
       "        <tr>\n",
       "            <td>Owner2</td>\n",
       "            <td>3625.0</td>\n",
       "        </tr>\n",
       "    </tbody>\n",
       "</table>"
      ],
      "text/plain": [
       "[('Owner2', 3625.0)]"
      ]
     },
     "execution_count": 30,
     "metadata": {},
     "output_type": "execute_result"
    }
   ],
   "source": [
    "%%sql\n",
    "SELECT OwnerSurname, TotCost\n",
    "FROM money_spent_per_boat \n",
    "WHERE TotCost = (SELECT MAX(TotCost) FROM money_spent_per_boat)\n",
    "ORDER BY OwnerSurname ASC"
   ]
  },
  {
   "attachments": {},
   "cell_type": "markdown",
   "metadata": {},
   "source": [
    "5. Order(ascending) the most visited destination cities and their corresponding country."
   ]
  },
  {
   "attachments": {},
   "cell_type": "markdown",
   "metadata": {},
   "source": [
    "### MySQL Syntax"
   ]
  },
  {
   "cell_type": "code",
   "execution_count": null,
   "metadata": {
    "vscode": {
     "languageId": "sql"
    }
   },
   "outputs": [],
   "source": [
    "CREATE VIEW visits_per_destination_city AS \n",
    "(\n",
    "  SELECT toCity as destCity, COUNT(id) as visits\n",
    "  FROM TRIPS\n",
    "  GROUP BY toCity\n",
    ");\n",
    "\n",
    "SELECT v.destCity, c.Country\n",
    "FROM visits_per_destination_city v\n",
    "JOIN CITIES c ON c.Name = v.destCity\n",
    "WHERE visits = (SELECT MAX(visits) FROM visits_per_destination_city)\n",
    "ORDER BY v.destCity;\n"
   ]
  },
  {
   "attachments": {},
   "cell_type": "markdown",
   "metadata": {},
   "source": [
    "### Runnable SQLite Syntax"
   ]
  },
  {
   "cell_type": "code",
   "execution_count": 31,
   "metadata": {
    "vscode": {
     "languageId": "sql"
    }
   },
   "outputs": [
    {
     "name": "stdout",
     "output_type": "stream",
     "text": [
      " * sqlite:///boatsDB.sqlite\n",
      "Done.\n"
     ]
    },
    {
     "data": {
      "text/plain": [
       "[]"
      ]
     },
     "execution_count": 31,
     "metadata": {},
     "output_type": "execute_result"
    }
   ],
   "source": [
    "%%sql\n",
    "CREATE VIEW visits_per_destination_city AS \n",
    "SELECT toCity as destCity, COUNT(id) as visits\n",
    "FROM TRIPS\n",
    "GROUP BY toCity"
   ]
  },
  {
   "cell_type": "code",
   "execution_count": 32,
   "metadata": {
    "vscode": {
     "languageId": "sql"
    }
   },
   "outputs": [
    {
     "name": "stdout",
     "output_type": "stream",
     "text": [
      " * sqlite:///boatsDB.sqlite\n",
      "Done.\n"
     ]
    },
    {
     "data": {
      "text/html": [
       "<table>\n",
       "    <thead>\n",
       "        <tr>\n",
       "            <th>destCity</th>\n",
       "            <th>Country</th>\n",
       "        </tr>\n",
       "    </thead>\n",
       "    <tbody>\n",
       "        <tr>\n",
       "            <td>Lyon</td>\n",
       "            <td>France</td>\n",
       "        </tr>\n",
       "        <tr>\n",
       "            <td>Rome</td>\n",
       "            <td>Italy</td>\n",
       "        </tr>\n",
       "    </tbody>\n",
       "</table>"
      ],
      "text/plain": [
       "[('Lyon', 'France'), ('Rome', 'Italy')]"
      ]
     },
     "execution_count": 32,
     "metadata": {},
     "output_type": "execute_result"
    }
   ],
   "source": [
    "%%sql\n",
    "SELECT v.destCity, c.Country\n",
    "FROM visits_per_destination_city v\n",
    "JOIN CITIES c ON c.Name = v.destCity\n",
    "WHERE visits = (SELECT MAX(visits) FROM visits_per_destination_city)\n",
    "ORDER BY v.destCity"
   ]
  },
  {
   "attachments": {},
   "cell_type": "markdown",
   "metadata": {},
   "source": [
    "6. For each owner, find the fourth largest trip in terms of KM that started in France and ended in Greece."
   ]
  },
  {
   "attachments": {},
   "cell_type": "markdown",
   "metadata": {},
   "source": [
    "### MySQL Syntax"
   ]
  },
  {
   "cell_type": "code",
   "execution_count": null,
   "metadata": {
    "vscode": {
     "languageId": "sql"
    }
   },
   "outputs": [],
   "source": [
    "CREATE VIEW trips_from_France_to_Greece AS \n",
    "(\n",
    "  SELECT id AS tripID, idOwner, KM\n",
    "  FROM TRIPS t\n",
    "  JOIN CITIES o ON o.Name = t.fromCity\n",
    "  JOIN CITIES d ON d.Name = t.toCity\n",
    "  WHERE o.Country = \"France\" AND d.Country = \"Greece\"\n",
    ");\n",
    "\n",
    "SELECT t.idOwner, t.tripID, t.KM\n",
    "FROM trips_from_France_to_Greece t\n",
    "WHERE (SELECT COUNT(t2.tripID) FROM trips_from_France_to_Greece t2 WHERE t2.idOwner = t.idOwner AND t2.KM > t.KM) = 3;\n"
   ]
  },
  {
   "attachments": {},
   "cell_type": "markdown",
   "metadata": {},
   "source": [
    "### Runnable SQLite Syntax"
   ]
  },
  {
   "cell_type": "code",
   "execution_count": 33,
   "metadata": {
    "vscode": {
     "languageId": "sql"
    }
   },
   "outputs": [
    {
     "name": "stdout",
     "output_type": "stream",
     "text": [
      " * sqlite:///boatsDB.sqlite\n",
      "Done.\n"
     ]
    },
    {
     "data": {
      "text/plain": [
       "[]"
      ]
     },
     "execution_count": 33,
     "metadata": {},
     "output_type": "execute_result"
    }
   ],
   "source": [
    "%%sql\n",
    "CREATE VIEW trips_from_France_to_Greece AS \n",
    "SELECT id AS tripID, idOwner, KM\n",
    "FROM TRIPS t\n",
    "JOIN CITIES o ON o.Name = t.fromCity\n",
    "JOIN CITIES d ON d.Name = t.toCity\n",
    "WHERE o.Country = \"France\" AND d.Country = \"Greece\"\n"
   ]
  },
  {
   "cell_type": "code",
   "execution_count": 35,
   "metadata": {
    "vscode": {
     "languageId": "sql"
    }
   },
   "outputs": [
    {
     "name": "stdout",
     "output_type": "stream",
     "text": [
      " * sqlite:///boatsDB.sqlite\n",
      "Done.\n"
     ]
    },
    {
     "data": {
      "text/html": [
       "<table>\n",
       "    <thead>\n",
       "        <tr>\n",
       "            <th>idOwner</th>\n",
       "            <th>tripID</th>\n",
       "            <th>KM</th>\n",
       "        </tr>\n",
       "    </thead>\n",
       "    <tbody>\n",
       "        <tr>\n",
       "            <td>Owner3</td>\n",
       "            <td>16</td>\n",
       "            <td>250.0</td>\n",
       "        </tr>\n",
       "    </tbody>\n",
       "</table>"
      ],
      "text/plain": [
       "[('Owner3', 16, 250.0)]"
      ]
     },
     "execution_count": 35,
     "metadata": {},
     "output_type": "execute_result"
    }
   ],
   "source": [
    "%%sql\n",
    "SELECT t.idOwner, t.tripID, t.KM\n",
    "FROM trips_from_France_to_Greece t\n",
    "WHERE (SELECT COUNT(t2.tripID) FROM trips_from_France_to_Greece t2 WHERE t2.idOwner = t.idOwner AND t2.KM > t.KM) = 3"
   ]
  },
  {
   "attachments": {},
   "cell_type": "markdown",
   "metadata": {},
   "source": [
    "The final WHERE clause extracts per owner only those trips that have 3 trips larger than them, therefore they are the fourth one."
   ]
  },
  {
   "attachments": {},
   "cell_type": "markdown",
   "metadata": {},
   "source": [
    "7. Order(descending) boats by the total number of km traveled in years 2019 and 2020"
   ]
  },
  {
   "attachments": {},
   "cell_type": "markdown",
   "metadata": {},
   "source": [
    "My understanding:\n",
    "\n",
    "Order in descending order of total number of kilometers travelled between 2019 and 2020 the boats."
   ]
  },
  {
   "attachments": {},
   "cell_type": "markdown",
   "metadata": {},
   "source": [
    "### MySQL Syntax"
   ]
  },
  {
   "cell_type": "code",
   "execution_count": null,
   "metadata": {
    "vscode": {
     "languageId": "sql"
    }
   },
   "outputs": [],
   "source": [
    "SELECT idBoat, SUM(KM) as TotalKM\n",
    "FROM TRIPS\n",
    "WHERE Year IN (\"2019\", \"2020\")\n",
    "GROUP BY idBoat\n",
    "ORDER BY TotalKM DESC;\n"
   ]
  },
  {
   "attachments": {},
   "cell_type": "markdown",
   "metadata": {},
   "source": [
    "### Runnable SQLite Syntax"
   ]
  },
  {
   "cell_type": "code",
   "execution_count": 37,
   "metadata": {
    "vscode": {
     "languageId": "sql"
    }
   },
   "outputs": [
    {
     "name": "stdout",
     "output_type": "stream",
     "text": [
      " * sqlite:///boatsDB.sqlite\n",
      "Done.\n"
     ]
    },
    {
     "data": {
      "text/html": [
       "<table>\n",
       "    <thead>\n",
       "        <tr>\n",
       "            <th>idBoat</th>\n",
       "            <th>TotalKM</th>\n",
       "        </tr>\n",
       "    </thead>\n",
       "    <tbody>\n",
       "        <tr>\n",
       "            <td>Boat7</td>\n",
       "            <td>750.0</td>\n",
       "        </tr>\n",
       "        <tr>\n",
       "            <td>Boat8</td>\n",
       "            <td>500.0</td>\n",
       "        </tr>\n",
       "        <tr>\n",
       "            <td>Boat6</td>\n",
       "            <td>400.0</td>\n",
       "        </tr>\n",
       "        <tr>\n",
       "            <td>Boat5</td>\n",
       "            <td>350.0</td>\n",
       "        </tr>\n",
       "        <tr>\n",
       "            <td>Boat3</td>\n",
       "            <td>300.0</td>\n",
       "        </tr>\n",
       "        <tr>\n",
       "            <td>Boat4</td>\n",
       "            <td>250.0</td>\n",
       "        </tr>\n",
       "        <tr>\n",
       "            <td>Boat10</td>\n",
       "            <td>200.0</td>\n",
       "        </tr>\n",
       "        <tr>\n",
       "            <td>Boat1</td>\n",
       "            <td>200.0</td>\n",
       "        </tr>\n",
       "        <tr>\n",
       "            <td>Boat2</td>\n",
       "            <td>150.0</td>\n",
       "        </tr>\n",
       "    </tbody>\n",
       "</table>"
      ],
      "text/plain": [
       "[('Boat7', 750.0),\n",
       " ('Boat8', 500.0),\n",
       " ('Boat6', 400.0),\n",
       " ('Boat5', 350.0),\n",
       " ('Boat3', 300.0),\n",
       " ('Boat4', 250.0),\n",
       " ('Boat10', 200.0),\n",
       " ('Boat1', 200.0),\n",
       " ('Boat2', 150.0)]"
      ]
     },
     "execution_count": 37,
     "metadata": {},
     "output_type": "execute_result"
    }
   ],
   "source": [
    "%%sql\n",
    "SELECT idBoat, SUM(KM) as TotalKM\n",
    "FROM TRIPS\n",
    "WHERE Year IN (\"2019\", \"2020\")\n",
    "GROUP BY idBoat\n",
    "ORDER BY TotalKM DESC"
   ]
  },
  {
   "attachments": {},
   "cell_type": "markdown",
   "metadata": {},
   "source": [
    "8. For each owner, find(in ascending order) the boats with which he has performed the highest number of trips in years 2020, 2021, 2022. Report all information about boats."
   ]
  },
  {
   "attachments": {},
   "cell_type": "markdown",
   "metadata": {},
   "source": [
    "### MySQL Syntax"
   ]
  },
  {
   "cell_type": "code",
   "execution_count": null,
   "metadata": {
    "vscode": {
     "languageId": "sql"
    }
   },
   "outputs": [],
   "source": [
    "CREATE VIEW trips_per_boat_from_2020_to_2022 AS \n",
    "(\n",
    "  SELECT idBoat, idOwner, COUNT(id) as num_trips\n",
    "    FROM TRIPS\n",
    "    WHERE Year BETWEEN 2020 AND 2022\n",
    "    GROUP BY idBoat, idOwner\n",
    ");\n",
    "\n",
    "SELECT b.*\n",
    "FROM BOATS b\n",
    "JOIN trips_per_boat_from_2020_to_2022 t ON t.idBoat = b.NauticalPlate\n",
    "WHERE t.num_trips = (\n",
    "  SELECT MAX(num_trips)\n",
    "  FROM trips_per_boat_from_2020_to_2022 t2\n",
    "  WHERE t2.idOwner = t.idOwner\n",
    ")\n",
    "ORDER BY b.OwnerSurname;\n"
   ]
  },
  {
   "attachments": {},
   "cell_type": "markdown",
   "metadata": {},
   "source": [
    "### Runnable SQLite Syntax"
   ]
  },
  {
   "cell_type": "code",
   "execution_count": 38,
   "metadata": {
    "vscode": {
     "languageId": "sql"
    }
   },
   "outputs": [
    {
     "name": "stdout",
     "output_type": "stream",
     "text": [
      " * sqlite:///boatsDB.sqlite\n",
      "Done.\n"
     ]
    },
    {
     "data": {
      "text/plain": [
       "[]"
      ]
     },
     "execution_count": 38,
     "metadata": {},
     "output_type": "execute_result"
    }
   ],
   "source": [
    "%%sql\n",
    "CREATE VIEW trips_per_boat_from_2020_to_2022 AS \n",
    "SELECT idBoat, idOwner, COUNT(id) as num_trips\n",
    "FROM TRIPS\n",
    "WHERE Year BETWEEN 2020 AND 2022\n",
    "GROUP BY idBoat, idOwner\n"
   ]
  },
  {
   "cell_type": "code",
   "execution_count": 39,
   "metadata": {
    "vscode": {
     "languageId": "sql"
    }
   },
   "outputs": [
    {
     "name": "stdout",
     "output_type": "stream",
     "text": [
      " * sqlite:///boatsDB.sqlite\n",
      "Done.\n"
     ]
    },
    {
     "data": {
      "text/html": [
       "<table>\n",
       "    <thead>\n",
       "        <tr>\n",
       "            <th>NauticalPlate</th>\n",
       "            <th>OwnerSurname</th>\n",
       "            <th>CostGasolinePerKM</th>\n",
       "        </tr>\n",
       "    </thead>\n",
       "    <tbody>\n",
       "        <tr>\n",
       "            <td>Boat6</td>\n",
       "            <td>Owner1</td>\n",
       "            <td>2.0</td>\n",
       "        </tr>\n",
       "        <tr>\n",
       "            <td>Boat7</td>\n",
       "            <td>Owner2</td>\n",
       "            <td>2.5</td>\n",
       "        </tr>\n",
       "        <tr>\n",
       "            <td>Boat3</td>\n",
       "            <td>Owner3</td>\n",
       "            <td>2.9</td>\n",
       "        </tr>\n",
       "        <tr>\n",
       "            <td>Boat8</td>\n",
       "            <td>Owner3</td>\n",
       "            <td>1.8</td>\n",
       "        </tr>\n",
       "        <tr>\n",
       "            <td>Boat4</td>\n",
       "            <td>Owner4</td>\n",
       "            <td>1.2</td>\n",
       "        </tr>\n",
       "        <tr>\n",
       "            <td>Boat10</td>\n",
       "            <td>Owner5</td>\n",
       "            <td>1.9</td>\n",
       "        </tr>\n",
       "        <tr>\n",
       "            <td>Boat5</td>\n",
       "            <td>Owner5</td>\n",
       "            <td>1.5</td>\n",
       "        </tr>\n",
       "    </tbody>\n",
       "</table>"
      ],
      "text/plain": [
       "[('Boat6', 'Owner1', 2.0),\n",
       " ('Boat7', 'Owner2', 2.5),\n",
       " ('Boat3', 'Owner3', 2.9),\n",
       " ('Boat8', 'Owner3', 1.8),\n",
       " ('Boat4', 'Owner4', 1.2),\n",
       " ('Boat10', 'Owner5', 1.9),\n",
       " ('Boat5', 'Owner5', 1.5)]"
      ]
     },
     "execution_count": 39,
     "metadata": {},
     "output_type": "execute_result"
    }
   ],
   "source": [
    "%%sql\n",
    "SELECT b.*\n",
    "FROM BOATS b\n",
    "JOIN trips_per_boat_from_2020_to_2022 t ON t.idBoat = b.NauticalPlate\n",
    "WHERE t.num_trips = (\n",
    "  SELECT MAX(num_trips)\n",
    "  FROM trips_per_boat_from_2020_to_2022 t2\n",
    "  WHERE t2.idOwner = t.idOwner\n",
    ")\n",
    "ORDER BY b.OwnerSurname"
   ]
  },
  {
   "attachments": {},
   "cell_type": "markdown",
   "metadata": {},
   "source": [
    "9. Order(ascending) the countries by the number of trips larger than 200 KM that started and ended in the same country."
   ]
  },
  {
   "attachments": {},
   "cell_type": "markdown",
   "metadata": {},
   "source": [
    "### MySQL Syntax"
   ]
  },
  {
   "cell_type": "code",
   "execution_count": null,
   "metadata": {
    "vscode": {
     "languageId": "sql"
    }
   },
   "outputs": [],
   "source": [
    "SELECT o.Country, COUNT(t.id) as num_trips\n",
    "FROM TRIPS t\n",
    "JOIN CITIES o ON o.Name = t.fromCity\n",
    "JOIN CITIES d ON d.Name = t.toCity\n",
    "WHERE o.Country = d.Country AND t.KM > 200\n",
    "GROUP BY o.Country\n",
    "ORDER BY num_trips ASC;"
   ]
  },
  {
   "attachments": {},
   "cell_type": "markdown",
   "metadata": {},
   "source": [
    "### Runnable SQLite Syntax"
   ]
  },
  {
   "cell_type": "code",
   "execution_count": 41,
   "metadata": {
    "vscode": {
     "languageId": "sql"
    }
   },
   "outputs": [
    {
     "name": "stdout",
     "output_type": "stream",
     "text": [
      " * sqlite:///boatsDB.sqlite\n",
      "Done.\n"
     ]
    },
    {
     "data": {
      "text/html": [
       "<table>\n",
       "    <thead>\n",
       "        <tr>\n",
       "            <th>Country</th>\n",
       "            <th>num_trips</th>\n",
       "        </tr>\n",
       "    </thead>\n",
       "    <tbody>\n",
       "        <tr>\n",
       "            <td>UK</td>\n",
       "            <td>1</td>\n",
       "        </tr>\n",
       "        <tr>\n",
       "            <td>France</td>\n",
       "            <td>2</td>\n",
       "        </tr>\n",
       "        <tr>\n",
       "            <td>Greece</td>\n",
       "            <td>2</td>\n",
       "        </tr>\n",
       "        <tr>\n",
       "            <td>USA</td>\n",
       "            <td>2</td>\n",
       "        </tr>\n",
       "        <tr>\n",
       "            <td>Italy</td>\n",
       "            <td>3</td>\n",
       "        </tr>\n",
       "    </tbody>\n",
       "</table>"
      ],
      "text/plain": [
       "[('UK', 1), ('France', 2), ('Greece', 2), ('USA', 2), ('Italy', 3)]"
      ]
     },
     "execution_count": 41,
     "metadata": {},
     "output_type": "execute_result"
    }
   ],
   "source": [
    "%%sql\n",
    "SELECT o.Country, COUNT(t.id) as num_trips\n",
    "FROM TRIPS t\n",
    "JOIN CITIES o ON o.Name = t.fromCity\n",
    "JOIN CITIES d ON d.Name = t.toCity\n",
    "WHERE o.Country = d.Country AND t.KM > 200\n",
    "GROUP BY o.Country\n",
    "ORDER BY num_trips ASC"
   ]
  }
 ],
 "metadata": {
  "kernelspec": {
   "display_name": "base",
   "language": "python",
   "name": "python3"
  },
  "language_info": {
   "codemirror_mode": {
    "name": "ipython",
    "version": 3
   },
   "file_extension": ".py",
   "mimetype": "text/x-python",
   "name": "python",
   "nbconvert_exporter": "python",
   "pygments_lexer": "ipython3",
   "version": "3.9.7"
  },
  "orig_nbformat": 4
 },
 "nbformat": 4,
 "nbformat_minor": 2
}
